{
 "cells": [
  {
   "cell_type": "markdown",
   "metadata": {},
   "source": [
    "# 채택된 모델\n",
    "- 모든 특징을 사용한 `SMOreg`\n",
    "- 커널: RBF, $ \\gamma = 3 $"
   ]
  },
  {
   "cell_type": "code",
   "execution_count": 1,
   "metadata": {},
   "outputs": [
    {
     "name": "stderr",
     "output_type": "stream",
     "text": [
      "DEBUG:weka.core.jvm:Adding bundled jars\n",
      "DEBUG:weka.core.jvm:Classpath=['/opt/conda/envs/py36/lib/python3.6/site-packages/javabridge/jars/rhino-1.7R4.jar', '/opt/conda/envs/py36/lib/python3.6/site-packages/javabridge/jars/runnablequeue.jar', '/opt/conda/envs/py36/lib/python3.6/site-packages/javabridge/jars/cpython.jar', '/opt/conda/envs/py36/lib/python3.6/site-packages/weka/lib/weka.jar', '/opt/conda/envs/py36/lib/python3.6/site-packages/weka/lib/python-weka-wrapper.jar']\n",
      "DEBUG:weka.core.jvm:MaxHeapSize=default\n",
      "DEBUG:weka.core.jvm:Package support disabled\n"
     ]
    }
   ],
   "source": [
    "import weka.core.jvm as jvm\n",
    "import wrapper\n",
    "\n",
    "# python-weka-wrapper를 사용하기 위한 jvm 실행\n",
    "# jvm이 다시 시작이 안되는 경우 커널을 재시작 해주세요\n",
    "jvm.start()"
   ]
  },
  {
   "cell_type": "code",
   "execution_count": 2,
   "metadata": {},
   "outputs": [],
   "source": [
    "# train, test 데이터 불러오기\n",
    "from weka.classifiers import Classifier\n",
    "\n",
    "dfile_train = \"./datasets/housing_train.arff\"\n",
    "dfile_test = \"./datasets/housing_test.arff\"\n",
    "data_train = wrapper.load_data(dfile_train)\n",
    "data_test = wrapper.load_data(dfile_test)"
   ]
  },
  {
   "cell_type": "code",
   "execution_count": 3,
   "metadata": {},
   "outputs": [],
   "source": [
    "from weka.classifiers import KernelClassifier\n",
    "from weka.classifiers import Kernel\n",
    "\n",
    "# 03_Predict_Model.ipynb에서 smoreg 모델 재현 (시드 값을 정하지 않으면 1로 고정되어 있기 떄문)\n",
    "# RBF의 감마(1/(2*분산)) 을 3로 변경\n",
    "smoreg = KernelClassifier(classname=\"weka.classifiers.functions.SMOreg\")\n",
    "\n",
    "kernel = Kernel(classname=\"weka.classifiers.functions.supportVector.RBFKernel\", options=[\"-G\", \"3\"])\n",
    "smoreg.kernel = kernel\n",
    "smoreg.build_classifier(data_train)"
   ]
  },
  {
   "cell_type": "code",
   "execution_count": 4,
   "metadata": {},
   "outputs": [],
   "source": [
    "# 테스트 데이터에서 랜덤하게 데이터 선택하는 함수\n",
    "import numpy as np\n",
    "rand_instance = lambda: data_test.get_instance(np.random.randint(data_test.num_instances))"
   ]
  },
  {
   "cell_type": "code",
   "execution_count": 5,
   "metadata": {},
   "outputs": [
    {
     "name": "stdout",
     "output_type": "stream",
     "text": [
      "0.0187,85,4.15,0,0.429,6.516,27.7,8.5353,4,351,17.9,392.43,6.36,23.1\n"
     ]
    },
    {
     "data": {
      "text/plain": [
       "24.926568044324377"
      ]
     },
     "execution_count": 5,
     "metadata": {},
     "output_type": "execute_result"
    }
   ],
   "source": [
    "# 테스트 데이터에서 랜덤하게 데이터 선택\n",
    "instance = rand_instance()\n",
    "print(instance)\n",
    "\n",
    "# 채택된 모델로 인스턴스 예측\n",
    "smoreg.classify_instance(instance)"
   ]
  },
  {
   "cell_type": "code",
   "execution_count": 6,
   "metadata": {},
   "outputs": [],
   "source": [
    "# jvm 종료, jvm이 다시 시작이 안되는 경우 커널을 재시작 해주세요\n",
    "jvm.stop()"
   ]
  }
 ],
 "metadata": {
  "kernelspec": {
   "display_name": "Python 3.6",
   "language": "python",
   "name": "py36"
  },
  "language_info": {
   "codemirror_mode": {
    "name": "ipython",
    "version": 3
   },
   "file_extension": ".py",
   "mimetype": "text/x-python",
   "name": "python",
   "nbconvert_exporter": "python",
   "pygments_lexer": "ipython3",
   "version": "3.6.7"
  }
 },
 "nbformat": 4,
 "nbformat_minor": 2
}
